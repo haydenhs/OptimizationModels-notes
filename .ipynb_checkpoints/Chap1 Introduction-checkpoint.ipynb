{
 "cells": [
  {
   "cell_type": "markdown",
   "metadata": {},
   "source": [
    "# 优化问题介绍\n"
   ]
  },
  {
   "cell_type": "markdown",
   "metadata": {},
   "source": [
    "## 优化问题的定义\n",
    "\n",
    "### 标准形式\n",
    "$$p^{*}=\\mathop{\\min}\\limits_{x}  f_{0}(x)$$\n",
    "$$\\text{s.t.}: f_{i}(x) \\leq 0, i=1,...,m$$\n",
    "\n",
    "其中称x为决策变量，$f_{0}$为目标函数，$f_{i}$为约束条件。\n",
    "### 优化问题的解\n",
    "feasiblity problem: 研究问题在约束条件下是否可解，而不是目标函数的值\n",
    "\n",
    "optimal set: 关于某优化问题的一系列解集\n",
    "\n",
    "local&global optimal： local仅对于某邻域内局部点最优，global为全局最优\n",
    "### 几类重要的优化问题\n",
    "\n",
    "* LS与线性问题\n",
    "* 低秩近似和最大方差\n",
    "* 线性（LP）与多项式规划\n",
    "* 凸优化\n",
    "* 组合优化\n",
    "* 非凸优化\n"
   ]
  },
  {
   "cell_type": "markdown",
   "metadata": {},
   "source": [
    "## 优化问题研究历史\n",
    "略。"
   ]
  },
  {
   "cell_type": "code",
   "execution_count": null,
   "metadata": {},
   "outputs": [],
   "source": []
  }
 ],
 "metadata": {
  "kernelspec": {
   "display_name": "Python 3",
   "language": "python",
   "name": "python3"
  },
  "language_info": {
   "codemirror_mode": {
    "name": "ipython",
    "version": 3
   },
   "file_extension": ".py",
   "mimetype": "text/x-python",
   "name": "python",
   "nbconvert_exporter": "python",
   "pygments_lexer": "ipython3",
   "version": "3.6.5"
  }
 },
 "nbformat": 4,
 "nbformat_minor": 2
}
