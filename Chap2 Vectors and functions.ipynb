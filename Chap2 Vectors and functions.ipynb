{
 "cells": [
  {
   "cell_type": "markdown",
   "metadata": {},
   "source": [
    "# 向量基础知识"
   ]
  },
  {
   "cell_type": "markdown",
   "metadata": {},
   "source": [
    "##  向量空间\n",
    "\n",
    "### 向量空间定义\n",
    "向量空间是对向量定义了加操作和数乘操作的空间。\n",
    "\n",
    "与线性空间相关的几个定义：\n",
    "* 子空间subspace\n",
    "* 张成span\n",
    "* 直和direct sum\n",
    "* 基basis\n",
    "* 空间维数dimension\n",
    "\n",
    "### 仿射集定义\n",
    "\n",
    "定义如下：\n",
    "$$\\mathcal{A}=\\{x\\in\\mathcal{X}:x=v+x^{0}, v\\in\\mathcal{V}\\}$$\n",
    "其中$x^{0}$是一个给定点，$\\mathcal{V}$是向量空间$\\mathcal{X}$的子空间。可以认为子空间是包含原点的仿射空间$x^{0}=\\textbf{0}$。\n",
    "\n",
    "仿射集的维度被定义为子空间$\\mathcal{V}$的维度。"
   ]
  },
  {
   "cell_type": "markdown",
   "metadata": {},
   "source": [
    "## 范数与内积\n",
    "\n",
    "首先，范数和内积的引入是为了描述向量之间的距离关系和向量本身的长度。\n",
    "\n",
    "### p范数\n",
    "\n",
    "定义：\n",
    "$$||x||_{p}=(\\sum_{k=1}^{n}|x_{k}|^{p})^{\\frac{1}{p}}, 1<p<\\inf$$\n",
    "范数球：\n",
    "$$\\mathcal{B}_p\\in \\mathbb{R}^{n}:||x||_{p}\\leq 1$$\n",
    "\n",
    "### 内积\n",
    "\n",
    "定义：\n",
    "内积是一个实值函数将输入向量对映射到一个实数，内积有多种定义方式，标准的内积是：\n",
    "$$\\left< x,y \\right>=x^{T}y$$\n",
    "\n",
    "### Cauchy-Schwartz不等式及其推广\n",
    "\n",
    "从内积的角度$\\cos\\theta\\leq1$出发得到Cauchy-Schwartz不等式：\n",
    "$$|\\left< x,y \\right>|=|x^{T}y|\\leq ||x||_{2}||y||_{2}$$\n",
    "\n",
    "扩展到Holder不等式：对于任意的p和q大于等于1，其倒数和为1:\n",
    "$$|x^{T}y|\\leq\\sum_{k=1}^{n}|x_{k}y_{k}|\\leq||x||_p||y||_q$$\n",
    "\n",
    "### 正交与正交补\n",
    "\n",
    "向量正交定义：在内积空间$\\mathcal{X}$上，两个向量正交如果其内积为0。\n",
    "\n",
    "正交向量定义：一个向量集合S如果正交，当其满足：\n",
    "$$\\left< x^{i},x^{j} \\right>=\\begin{cases}0& \\text{i!=j}\\\\1& \\text{i=j}\\end{cases}$$\n",
    "\n",
    "正交补：一个向量正交于向量空间$\\mathcal{X}$的子空间$\\mathcal{S}$，如果正交于此空间的所有向量。所有正交于子空间$\\mathcal{S}$的向量集合构成向量空间$\\mathcal{S}$的正交补$\\mathcal{S}^{\\perp}$。\n",
    "\n",
    "正交补定理：对于以上定义的正交补，可以将空间$\\mathcal{X}$的任意向量写成子空间$\\mathcal{S}$和其正交补空间的一个向量之和。"
   ]
  },
  {
   "cell_type": "markdown",
   "metadata": {},
   "source": [
    "## 子空间投影\n",
    "\n",
    "投影的操作，是指给定一个内积空间$\\mathcal{X}$内的向量$x$，找到封闭集合$\\mathcal{S}\\subseteq\\mathcal{X}$上的向量$y$，满足：\n",
    "$$\\Pi_{\\mathcal{S}}(x)=\\arg \\min_{y\\in\\mathcal{S}}||y-x||$$\n",
    "\n",
    "注意此时的$\\mathcal{S}$并不要求是一个子空间。\n",
    "\n",
    "### 投影定理\n",
    "给定一个内积空间$\\mathcal{X}$内的向量$x$，其有一个子空间$\\mathcal{S}$，那么存在一个特定的向量$x^{*}\\in\\mathcal{S}$满足投影的要求，并且这个向量是投影最优解的充要条件是：\n",
    "$$x^{*}\\in\\mathcal{S},(x-x^{*})\\perp\\mathcal{S}$$\n",
    "\n",
    "由此可以推出在仿射集上投影的推论:\n",
    "\n",
    "在仿射集$\\mathcal{A}=x^0+\\mathcal{S}$上存在一个特定的向量$x^{*}\\in\\mathcal{S}$满足投影的要求，并且这个向量是投影最优解的充要条件是：\n",
    "\n",
    "$$x^{*}\\in\\mathcal{A},(x-x^{*})\\perp\\mathcal{S}$$\n",
    "\n",
    "实际上，可以认为$x^{*}=z^{*}+x^0$。\n",
    "\n",
    "### Gram-Schmidt分解\n",
    "\n",
    "可以通过不断制造投影的角度来理解一组基向量的Gram-Schmidt分解，Gram-Schmidt分解的作用是将一组线性无关的基向量转化为标准的正交基，具体的操作方法如下：\n",
    "\n",
    "取一个向量，作归一化(除模)使得长度为1，得到转化后的第一个向量；\n",
    "\n",
    "取第二个向量，将其往转化后的第一个向量张成的空间上投影，并与得到的投影作差后再归一化，得到转化的第二个向量；\n",
    "\n",
    "取第三个向量，将其往转后后的前两个向量张成的空间上投影，并与得到的投影作差后再归一化，得到转化的第三个向量；\n",
    "\n",
    "……以此类推，这里主要用到的是投影定理中$(x-x^{*})\\perp\\mathcal{S}$的性质。"
   ]
  },
  {
   "cell_type": "markdown",
   "metadata": {},
   "source": [
    "## 向量的函数\n",
    "\n",
    "### 几个相关定义\n",
    "\n",
    "* 函数f的图graph：$\\text{graph}f=\\{(x,f(x))\\in\\mathbb{R}^{n+1}:x\\in\\mathbb{R}^{n}\\}$\n",
    "* 函数f的上境图epigraph：$\\text{epi}f=\\{(x,t)\\in\\mathbb{R}^{n+1}:x\\in\\mathbb{R}^{n},t\\geq f(x)\\}$\n",
    "* t下水平集t-sublevel set：$L_{f}(t)=\\{x\\in\\mathbb{R}^{n}:f(x)\\leq t\\}$\n",
    "* 仿射函数 affine function: 如果$f(x)-f(0)$是线性函数\n",
    "\n",
    "### 几种常见的几何图形\n",
    "\n",
    "#### 超平面hyperplane \n",
    "\n",
    "$$H=\\{x\\in\\mathbb{R}^{n}:a^{T}x=b\\}$$\n",
    "\n",
    "超平面也可以理解为线性函数的水平集（根据定义），\n",
    "* 当$b=0$，超平面变成向量a张成空间span(a)的正交补空间(n-1维)\n",
    "* 当$b\\not=0$，超平面是一个仿射集，也是之前所说正交补空间的一个平移结果，a决定平移方向，b决定平移距离\n",
    "\n",
    "#### 半平面half-spaces\n",
    "\n",
    "超平面将空间划分为两个半平面，可以人工分成一个开的$H_{-}$，一个闭的$H_{++}$。"
   ]
  },
  {
   "cell_type": "code",
   "execution_count": null,
   "metadata": {},
   "outputs": [],
   "source": []
  }
 ],
 "metadata": {
  "kernelspec": {
   "display_name": "Python 3",
   "language": "python",
   "name": "python3"
  },
  "language_info": {
   "codemirror_mode": {
    "name": "ipython",
    "version": 3
   },
   "file_extension": ".py",
   "mimetype": "text/x-python",
   "name": "python",
   "nbconvert_exporter": "python",
   "pygments_lexer": "ipython3",
   "version": "3.6.5"
  }
 },
 "nbformat": 4,
 "nbformat_minor": 2
}
